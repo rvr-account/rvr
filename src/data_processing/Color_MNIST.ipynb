{
 "cells": [
  {
   "cell_type": "markdown",
   "metadata": {},
   "source": [
    "# Code to generate MNIST images with color"
   ]
  },
  {
   "cell_type": "code",
   "execution_count": 1,
   "metadata": {},
   "outputs": [],
   "source": [
    "import numpy as np\n",
    "import matplotlib.pyplot as plt\n",
    "import tensorflow as tf"
   ]
  },
  {
   "cell_type": "code",
   "execution_count": 2,
   "metadata": {},
   "outputs": [],
   "source": [
    "# Helper function to show multiple images at once, in a grid.\n",
    "def show_images_grid(imgs_, num_images=25):\n",
    "  ncols = int(np.ceil(num_images**0.5))\n",
    "  nrows = int(np.ceil(num_images / ncols))\n",
    "  _, axes = plt.subplots(ncols, nrows, figsize=(nrows * 3, ncols * 3))\n",
    "  axes = axes.flatten()\n",
    "\n",
    "  for ax_i, ax in enumerate(axes):\n",
    "    if ax_i < num_images:\n",
    "      ax.imshow(imgs_[ax_i] )#, cmap='Greys_r',  interpolation='nearest')\n",
    "      ax.set_xticks([])\n",
    "      ax.set_yticks([])\n",
    "    else:\n",
    "      ax.axis('off')"
   ]
  },
  {
   "cell_type": "code",
   "execution_count": 3,
   "metadata": {},
   "outputs": [],
   "source": [
    "# Load MNIST data from keras\n",
    "(x_train, y_train), (x_test, y_test) = tf.keras.datasets.mnist.load_data()"
   ]
  },
  {
   "cell_type": "code",
   "execution_count": 4,
   "metadata": {},
   "outputs": [],
   "source": [
    "# Convert pixel values from 0 to 255 to [0,1] range\n",
    "x_train = x_train/255.\n",
    "x_test = x_test/255."
   ]
  },
  {
   "cell_type": "markdown",
   "metadata": {},
   "source": [
    "## Example: change an image of an 8 to a green 8"
   ]
  },
  {
   "cell_type": "code",
   "execution_count": 5,
   "metadata": {},
   "outputs": [
    {
     "name": "stdout",
     "output_type": "stream",
     "text": [
      "8\n"
     ]
    },
    {
     "data": {
      "text/plain": [
       "<matplotlib.image.AxesImage at 0xb31c97e10>"
      ]
     },
     "execution_count": 5,
     "metadata": {},
     "output_type": "execute_result"
    },
    {
     "data": {
      "image/png": "[encoded data removed]",
      "text/plain": [
       "<Figure size 432x288 with 1 Axes>"
      ]
     },
     "metadata": {
      "needs_background": "light"
     },
     "output_type": "display_data"
    }
   ],
   "source": [
    "image_index = 7777 # You may select anything up to 60,000\n",
    "print(y_train[image_index]) # The label is 8\n",
    "\n",
    "plt.imshow(x_train[image_index], cmap='Greys')"
   ]
  },
  {
   "cell_type": "code",
   "execution_count": 6,
   "metadata": {},
   "outputs": [],
   "source": [
    "test = x_train[image_index]\n",
    "test = np.reshape(test, (-1, 28, 28, 1))\n"
   ]
  },
  {
   "cell_type": "code",
   "execution_count": 7,
   "metadata": {},
   "outputs": [],
   "source": [
    "#new = np.concatenate((test, test, test), axis=3)\n",
    "new = np.concatenate([np.zeros((1, 28, 28, 1)), test, np.zeros((1, 28, 28, 1))], axis=3)\n"
   ]
  },
  {
   "cell_type": "code",
   "execution_count": 8,
   "metadata": {},
   "outputs": [
    {
     "name": "stdout",
     "output_type": "stream",
     "text": [
      "(1, 28, 28, 3)\n"
     ]
    }
   ],
   "source": [
    "print(new.shape)"
   ]
  },
  {
   "cell_type": "code",
   "execution_count": 9,
   "metadata": {},
   "outputs": [
    {
     "data": {
      "text/plain": [
       "<matplotlib.image.AxesImage at 0xb2d3ee190>"
      ]
     },
     "execution_count": 9,
     "metadata": {},
     "output_type": "execute_result"
    },
    {
     "data": {
      "image/png": "[encoded data removed]",
      "text/plain": [
       "<Figure size 432x288 with 1 Axes>"
      ]
     },
     "metadata": {
      "needs_background": "light"
     },
     "output_type": "display_data"
    }
   ],
   "source": [
    "plt.imshow(new[0])"
   ]
  },
  {
   "cell_type": "markdown",
   "metadata": {},
   "source": [
    "# Change y labels"
   ]
  },
  {
   "cell_type": "code",
   "execution_count": 10,
   "metadata": {},
   "outputs": [
    {
     "name": "stdout",
     "output_type": "stream",
     "text": [
      "[5 0 4 ... 5 6 8]\n",
      "[7 2 1 ... 4 5 6]\n"
     ]
    }
   ],
   "source": [
    "print(y_train)\n",
    "print(y_test)"
   ]
  },
  {
   "cell_type": "code",
   "execution_count": 11,
   "metadata": {},
   "outputs": [],
   "source": [
    "new_y_train = np.array([1 if y > 4 else 0 for y in y_train])\n",
    "new_y_test = np.array([1 if y > 4 else 0 for y in y_test])"
   ]
  },
  {
   "cell_type": "code",
   "execution_count": null,
   "metadata": {},
   "outputs": [],
   "source": [
    "# add noise to label\n",
    "\n",
    "# I SKIP THIS STEP FOR NEW DATASET\n",
    "# print (\"ADDING NOISE TO LABEL\")\n",
    "# for i, y in enumerate(new_y_train):\n",
    "#     if np.random.random() < 0.25:\n",
    "#         new_y_train[i] = 1 - y\n",
    "\n",
    "# for i, y in enumerate(new_y_test):\n",
    "#     if np.random.random() < 0.25:\n",
    "#         new_y_test[i] = 1 - y\n",
    "        "
   ]
  },
  {
   "cell_type": "code",
   "execution_count": 12,
   "metadata": {},
   "outputs": [
    {
     "name": "stdout",
     "output_type": "stream",
     "text": [
      "[[0 1]\n",
      " [1 0]\n",
      " [1 0]\n",
      " ...\n",
      " [0 1]\n",
      " [0 1]\n",
      " [0 1]]\n"
     ]
    },
    {
     "data": {
      "text/plain": [
       "array([[0, 1],\n",
       "       [1, 0],\n",
       "       [1, 0],\n",
       "       ...,\n",
       "       [1, 0],\n",
       "       [0, 1],\n",
       "       [0, 1]])"
      ]
     },
     "execution_count": 12,
     "metadata": {},
     "output_type": "execute_result"
    }
   ],
   "source": [
    "new_y_train_dub = np.vstack((1 - new_y_train, new_y_train)).T\n",
    "print(new_y_train_dub)\n",
    "new_y_test_dub = np.vstack((1 - new_y_test, new_y_test)).T\n",
    "new_y_test_dub"
   ]
  },
  {
   "cell_type": "markdown",
   "metadata": {},
   "source": [
    "# Decide on color schemes"
   ]
  },
  {
   "cell_type": "code",
   "execution_count": 13,
   "metadata": {},
   "outputs": [],
   "source": [
    "n = 10000"
   ]
  },
  {
   "cell_type": "code",
   "execution_count": 19,
   "metadata": {},
   "outputs": [],
   "source": [
    "# study 1: red for y=0, green for y=1\n",
    "# flip colors 0% of time\n",
    "\n",
    "colors_1 = np.copy(new_y_train[:n])\n",
    "# for i, c in enumerate(colors_1):\n",
    "#     if np.random.random() < 0.2:\n",
    "#         colors_1[i] = 1 - c\n",
    "\n",
    "# study 2: red for y=0, green for y=1\n",
    "# flip colors 100% of the time --> green for y=0, red for y=1\n",
    "colors_2 = np.copy(new_y_train[n:2*n])\n",
    "for i, c in enumerate(colors_2):\n",
    "    colors_2[i] = 1 - c\n",
    "\n",
    "\n",
    "# study 3: red for y=0, green for y=1\n",
    "# flip colors 90% of the time\n",
    "# colors_3 = np.copy(new_y_train[2*n:3*n])\n",
    "# for i, c in enumerate(colors_3):\n",
    "#     if np.random.random() < 0.9:\n",
    "#         colors_3[i] = 1 - c\n",
    "        \n",
    "        \n",
    "# test: red for y=0, green for y = 1\n",
    "# flip colors 50% of the time\n",
    "\n",
    "colors_test = np.copy(new_y_test[:n])\n",
    "for i, c in enumerate(colors_test):\n",
    "    if np.random.random() < 0.5:\n",
    "        colors_test[i] = 1 - c"
   ]
  },
  {
   "cell_type": "code",
   "execution_count": 20,
   "metadata": {},
   "outputs": [
    {
     "name": "stdout",
     "output_type": "stream",
     "text": [
      "(array([1, 0, 0, ..., 1, 1, 1]), array([1, 0, 0, ..., 1, 1, 1]), array([0, 1, 1, ..., 0, 0, 0]))\n"
     ]
    }
   ],
   "source": [
    "print(colors_1, colors_2, colors_test)"
   ]
  },
  {
   "cell_type": "code",
   "execution_count": 21,
   "metadata": {},
   "outputs": [
    {
     "data": {
      "text/plain": [
       "0"
      ]
     },
     "execution_count": 21,
     "metadata": {},
     "output_type": "execute_result"
    }
   ],
   "source": [
    "np.sum(np.abs(colors_1 - new_y_train[:n]))"
   ]
  },
  {
   "cell_type": "markdown",
   "metadata": {},
   "source": [
    "# Change colors"
   ]
  },
  {
   "cell_type": "code",
   "execution_count": 22,
   "metadata": {},
   "outputs": [],
   "source": [
    "numstudies = 3\n",
    "new_x_train = np.zeros((numstudies*n, 28, 28, 3))\n",
    "new_x_test = np.zeros((n, 28, 28, 3))"
   ]
  },
  {
   "cell_type": "code",
   "execution_count": 24,
   "metadata": {},
   "outputs": [],
   "source": [
    "# study 1\n",
    "for i in range(n):\n",
    "    img = np.reshape(x_train[i], (28, 28, 1))\n",
    "    if colors_1[i] == 0: # turn red\n",
    "        new = np.concatenate([img, np.zeros(( 28, 28, 1)), np.zeros(( 28, 28, 1))], axis=2)\n",
    "    else: # turn green\n",
    "        new = np.concatenate([np.zeros(( 28, 28, 1)), img, np.zeros(( 28, 28, 1))], axis=2)\n",
    "    new_x_train[i] = new\n",
    "    \n",
    "# study 2\n",
    "for i in range(n):\n",
    "    img = np.reshape(x_train[n+i], (28, 28, 1))\n",
    "    if colors_2[i] == 0: # turn red\n",
    "        new = np.concatenate([img, np.zeros(( 28, 28, 1)), np.zeros(( 28, 28, 1))], axis=2)\n",
    "    else: # turn green\n",
    "        new = np.concatenate([np.zeros(( 28, 28, 1)), img, np.zeros(( 28, 28, 1))], axis=2)\n",
    "    new_x_train[n+i] = new\n",
    "    \n",
    "# study 3\n",
    "# for i in range(n):\n",
    "#     img = np.reshape(x_train[2*n + i], (28, 28, 1))\n",
    "#     if colors_3[i] == 0: # turn red\n",
    "#         new = np.concatenate([img, np.zeros(( 28, 28, 1)), np.zeros(( 28, 28, 1))], axis=2)\n",
    "#     else: # turn green\n",
    "#         new = np.concatenate([np.zeros(( 28, 28, 1)), img, np.zeros(( 28, 28, 1))], axis=2)\n",
    "#     new_x_train[2*n + i] = new\n",
    "    \n",
    "# test\n",
    "for i in range(n):\n",
    "    img = np.reshape(x_test[i], (28, 28, 1))\n",
    "    if colors_test[i] == 0: # turn red\n",
    "        new = np.concatenate([img, np.zeros(( 28, 28, 1)), np.zeros(( 28, 28, 1))], axis=2)\n",
    "    else: # turn green\n",
    "        new = np.concatenate([np.zeros(( 28, 28, 1)), img, np.zeros(( 28, 28, 1))], axis=2)\n",
    "    new_x_test[i] = new"
   ]
  },
  {
   "cell_type": "code",
   "execution_count": 25,
   "metadata": {},
   "outputs": [
    {
     "data": {
      "text/plain": [
       "array([0.06564408, 0.06687052, 0.        ])"
      ]
     },
     "execution_count": 25,
     "metadata": {},
     "output_type": "execute_result"
    }
   ],
   "source": [
    "np.mean(np.mean(np.mean(new_x_test, axis=0), axis=0), axis=0)"
   ]
  },
  {
   "cell_type": "code",
   "execution_count": 26,
   "metadata": {},
   "outputs": [
    {
     "data": {
      "text/plain": [
       "<matplotlib.image.AxesImage at 0xb4ce5f610>"
      ]
     },
     "execution_count": 26,
     "metadata": {},
     "output_type": "execute_result"
    },
    {
     "data": {
      "image/png": "[encoded data removed]",
      "text/plain": [
       "<Figure size 432x288 with 1 Axes>"
      ]
     },
     "metadata": {
      "needs_background": "light"
     },
     "output_type": "display_data"
    }
   ],
   "source": [
    "#plt.imshow(new_x_train[2*n+1000])\n",
    "plt.imshow(new_x_test[n-1])"
   ]
  },
  {
   "cell_type": "code",
   "execution_count": 27,
   "metadata": {},
   "outputs": [
    {
     "name": "stdout",
     "output_type": "stream",
     "text": [
      "[[1. 0. 0.]\n",
      " [1. 0. 0.]\n",
      " [1. 0. 0.]\n",
      " ...\n",
      " [0. 0. 1.]\n",
      " [0. 0. 1.]\n",
      " [0. 0. 1.]]\n",
      "(30000, 3)\n",
      "[[1. 0. 0.]\n",
      " [1. 0. 0.]\n",
      " [1. 0. 0.]\n",
      " ...\n",
      " [1. 0. 0.]\n",
      " [1. 0. 0.]\n",
      " [1. 0. 0.]]\n"
     ]
    }
   ],
   "source": [
    "new_attr_train =  np.concatenate( [ np.vstack([np.ones(n), np.zeros(n), np.zeros(n)]).T, \n",
    "                                   np.vstack([np.zeros(n), np.ones(n), np.zeros(n)]).T,\n",
    "                                   np.vstack([np.zeros(n), np.zeros(n), np.ones(n)]).T])\n",
    "print(new_attr_train)\n",
    "print(new_attr_train.shape)\n",
    "\n",
    "new_attr_test = np.vstack([np.ones(n), np.zeros(n), np.zeros(n)]).T\n",
    "print(new_attr_test)"
   ]
  },
  {
   "cell_type": "code",
   "execution_count": 28,
   "metadata": {},
   "outputs": [
    {
     "name": "stdout",
     "output_type": "stream",
     "text": [
      "(30000, 2352)\n"
     ]
    }
   ],
   "source": [
    "new_x_train_reshape = np.reshape(new_x_train, (numstudies*n, 28*28*3))\n",
    "new_x_test_reshape = np.reshape(new_x_test, (n, 28*28*3))\n",
    "print(new_x_train_reshape.shape)"
   ]
  },
  {
   "cell_type": "code",
   "execution_count": 29,
   "metadata": {},
   "outputs": [
    {
     "name": "stdout",
     "output_type": "stream",
     "text": [
      "(30000, 2)\n"
     ]
    },
    {
     "data": {
      "text/plain": [
       "(10000, 2)"
      ]
     },
     "execution_count": 29,
     "metadata": {},
     "output_type": "execute_result"
    }
   ],
   "source": [
    "new_y_train_reshape = new_y_train_dub[:numstudies*n]\n",
    "print(new_y_train_reshape.shape)\n",
    "new_y_test_reshape = new_y_test_dub[:n]\n",
    "new_y_test_reshape.shape"
   ]
  },
  {
   "cell_type": "code",
   "execution_count": 30,
   "metadata": {},
   "outputs": [
    {
     "name": "stdout",
     "output_type": "stream",
     "text": [
      "(8000, 2000)\n"
     ]
    }
   ],
   "source": [
    "numstudies = 1\n",
    "inds_shuffled = np.random.permutation(numstudies*n)\n",
    "train_inds = inds_shuffled[:int(.8 * numstudies*n)]\n",
    "valid_inds = inds_shuffled[int(.8 * numstudies*n):]\n",
    "print(len(train_inds), len(valid_inds))"
   ]
  },
  {
   "cell_type": "markdown",
   "metadata": {},
   "source": [
    "# Save new dataset"
   ]
  },
  {
   "cell_type": "code",
   "execution_count": 31,
   "metadata": {},
   "outputs": [
    {
     "data": {
      "text/plain": [
       "\"\\nnp.savez('mnist_nonoise_072219.npz', \\n         x_train = new_x_train_reshape, \\n         x_test = new_x_test_reshape, \\n         y_train = new_y_train_reshape, \\n         y_test = new_y_test_reshape, \\n         attr_train = new_attr_train,\\n         attr_test = new_attr_test,\\n         train_inds = train_inds,\\n         valid_inds = valid_inds)\\n\""
      ]
     },
     "execution_count": 31,
     "metadata": {},
     "output_type": "execute_result"
    }
   ],
   "source": [
    "num = n\n",
    "save_file = 'mnist_simplestudy_101619.npz'\n",
    "np.savez(save_file, \n",
    "         x_train = new_x_train_reshape[:num], \n",
    "         x_test = new_x_test_reshape, \n",
    "         y_train = new_y_train_reshape[:num], \n",
    "         y_test = new_y_test_reshape, \n",
    "         attr_train = new_attr_train[:num],\n",
    "         attr_test = new_attr_test,\n",
    "         train_inds = train_inds,\n",
    "         valid_inds = valid_inds)\n",
    "\n",
    "'''\n",
    "np.savez('mnist_nonoise_072219.npz', \n",
    "         x_train = new_x_train_reshape, \n",
    "         x_test = new_x_test_reshape, \n",
    "         y_train = new_y_train_reshape, \n",
    "         y_test = new_y_test_reshape, \n",
    "         attr_train = new_attr_train,\n",
    "         attr_test = new_attr_test,\n",
    "         train_inds = train_inds,\n",
    "         valid_inds = valid_inds)\n",
    "'''"
   ]
  },
  {
   "cell_type": "markdown",
   "metadata": {},
   "source": [
    "# And that's it for generating the color dataset!\n",
    "### Things that could be changed include:\n",
    "- using more colors, eg. red and green in study 1, green and blue in study 2, and blue and red in study 3, etc.\n",
    "- adding lateral translations of images or adding noise"
   ]
  },
  {
   "cell_type": "markdown",
   "metadata": {},
   "source": [
    "# Examining reconstruction results (and comparing to ground-truth data)\n",
    "The rest of this notebook has code I used to compare the results from model reconstructions to the original inputs."
   ]
  },
  {
   "cell_type": "code",
   "execution_count": null,
   "metadata": {},
   "outputs": [],
   "source": [
    "myfilename = '/Users/rachelh/Programs/rvr/src/data_processing/mnist_1study_081419.npz'\n",
    "data = np.load(myfilename)"
   ]
  },
  {
   "cell_type": "code",
   "execution_count": null,
   "metadata": {},
   "outputs": [],
   "source": [
    "np.mean(data['attr_train'], axis=0)"
   ]
  },
  {
   "cell_type": "code",
   "execution_count": null,
   "metadata": {},
   "outputs": [],
   "source": [
    "from sys import getsizeof\n",
    "getsizeof(data['x_train'])\n",
    "#data['x_test'].shape\n",
    "122880112"
   ]
  },
  {
   "cell_type": "code",
   "execution_count": null,
   "metadata": {},
   "outputs": [],
   "source": [
    "def sigmoid(x):\n",
    "    return 1 / (1 + np.exp(-x))"
   ]
  },
  {
   "cell_type": "code",
   "execution_count": null,
   "metadata": {},
   "outputs": [],
   "source": [
    "this_valid_inds= data['valid_inds']"
   ]
  },
  {
   "cell_type": "code",
   "execution_count": null,
   "metadata": {},
   "outputs": [],
   "source": [
    "# Load outputs from the decoder (the reconstructed inputs)\n",
    "\n",
    "#xhat = np.load('/Users/Frances/Documents/seas-fellowship/rvr/mnist_fair10_recon005_ep9500_xhat.npz')['X']\n",
    "xhat = np.load('/Users/rachelh/Programs/rvr/mnist_no_studyid_class0_fair0_recon05_valid_xhat.npz')['X']\n",
    "print(xhat.shape)\n"
   ]
  },
  {
   "cell_type": "code",
   "execution_count": null,
   "metadata": {
    "scrolled": false
   },
   "outputs": [],
   "source": [
    "num = 100\n",
    "#plt.imshow(np.reshape(xhat[idx], (28, 28, 3)))\n",
    "#show_images_grid(np.reshape(sigmoid(xhat[study3_idx[:num]]), (-1, 28, 28, 3)), num)\n",
    "show_images_grid(np.reshape(sigmoid(xhat[:num]), (-1, 28, 28, 3)), num)"
   ]
  },
  {
   "cell_type": "code",
   "execution_count": null,
   "metadata": {
    "scrolled": false
   },
   "outputs": [],
   "source": [
    "# show ground truth images\n",
    "show_images_grid(np.reshape(data['x_train'][data['valid_inds'][:num]], (-1, 28, 28, 3)), num)"
   ]
  },
  {
   "cell_type": "code",
   "execution_count": null,
   "metadata": {},
   "outputs": [],
   "source": [
    "show_images_grid(np.reshape(new_x_test_reshape[:36], (-1, 28, 28, 3)), 36)"
   ]
  },
  {
   "cell_type": "code",
   "execution_count": null,
   "metadata": {},
   "outputs": [],
   "source": [
    "plt.imshow(np.reshape(new_x_train_reshape[valid_inds[0]], (28, 28,3)))"
   ]
  },
  {
   "cell_type": "code",
   "execution_count": null,
   "metadata": {},
   "outputs": [],
   "source": [
    "y_train[valid_inds[:9]]"
   ]
  },
  {
   "cell_type": "code",
   "execution_count": null,
   "metadata": {},
   "outputs": [],
   "source": [
    "study1_idx = []\n",
    "study2_idx = []\n",
    "study3_idx = []\n",
    "for idx, attr in enumerate(new_attr_train[this_valid_inds[:5951]]):\n",
    "    if attr[0] == 1:\n",
    "        study1_idx.append(idx)\n",
    "    elif attr[1] == 1:\n",
    "        study2_idx.append(idx)\n",
    "    elif attr[2] == 1:\n",
    "        study3_idx.append(idx)\n",
    "study1_idx = np.array(study1_idx)\n",
    "study2_idx = np.array(study2_idx)\n",
    "study3_idx = np.array(study3_idx)"
   ]
  },
  {
   "cell_type": "code",
   "execution_count": null,
   "metadata": {},
   "outputs": [],
   "source": [
    "print(study1_idx.shape, study2_idx.shape, study3_idx.shape)"
   ]
  },
  {
   "cell_type": "code",
   "execution_count": null,
   "metadata": {},
   "outputs": [],
   "source": [
    "new_x_train_reshape.shape"
   ]
  },
  {
   "cell_type": "code",
   "execution_count": null,
   "metadata": {},
   "outputs": [],
   "source": [
    "for idx in range(2*n+35, 2*n+40):\n",
    "    plt.imshow(np.reshape(new_x_train_reshape[idx], (28, 28, 3)))\n",
    "    print(new_y_train_reshape[idx])\n",
    "    plt.show()"
   ]
  },
  {
   "cell_type": "code",
   "execution_count": null,
   "metadata": {},
   "outputs": [],
   "source": [
    "for idx in range(n+10, n+20):\n",
    "    print(new_y_train_reshape[idx])"
   ]
  },
  {
   "cell_type": "code",
   "execution_count": null,
   "metadata": {},
   "outputs": [],
   "source": []
  },
  {
   "cell_type": "code",
   "execution_count": null,
   "metadata": {},
   "outputs": [],
   "source": []
  }
 ],
 "metadata": {
  "kernelspec": {
   "display_name": "Python 2",
   "language": "python",
   "name": "python2"
  },
  "language_info": {
   "codemirror_mode": {
    "name": "ipython",
    "version": 2
   },
   "file_extension": ".py",
   "mimetype": "text/x-python",
   "name": "python",
   "nbconvert_exporter": "python",
   "pygments_lexer": "ipython2",
   "version": "2.7.16"
  }
 },
 "nbformat": 4,
 "nbformat_minor": 2
}
