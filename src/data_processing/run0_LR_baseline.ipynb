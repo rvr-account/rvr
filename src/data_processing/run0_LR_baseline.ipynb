{
 "cells": [
  {
   "cell_type": "code",
   "execution_count": 1,
   "metadata": {},
   "outputs": [
    {
     "name": "stdout",
     "output_type": "stream",
     "text": [
      "['/Users/Frances/anaconda3/envs/rvr-env/lib/python36.zip', '/Users/Frances/anaconda3/envs/rvr-env/lib/python3.6', '/Users/Frances/anaconda3/envs/rvr-env/lib/python3.6/lib-dynload', '', '/Users/Frances/anaconda3/envs/rvr-env/lib/python3.6/site-packages', '/Users/Frances/anaconda3/envs/rvr-env/lib/python3.6/site-packages/IPython/extensions', '/Users/Frances/.ipython']\n"
     ]
    }
   ],
   "source": [
    "import sys\n",
    "print(sys.path)"
   ]
  },
  {
   "cell_type": "code",
   "execution_count": 2,
   "metadata": {},
   "outputs": [],
   "source": [
    "import torch\n",
    "import torch.nn as nn\n",
    "import torch.nn.functional as F\n",
    "\n",
    "import numpy as np\n",
    "import random\n",
    "from sklearn.linear_model import LogisticRegression\n",
    "from sklearn.metrics import accuracy_score\n",
    "import matplotlib.pyplot as plt\n",
    "%matplotlib inline\n",
    "\n",
    "infile = \"../../data/run0/run0.npz\"\n",
    "het_infile = \"../../data/runhet/run_het.npz\"\n",
    "#outfile = \"../../data/balanced_adult_matched_pairs/balanced_adult_matched_pairs.npz\"\n",
    "\n",
    "random.seed(0)"
   ]
  },
  {
   "cell_type": "code",
   "execution_count": 3,
   "metadata": {},
   "outputs": [],
   "source": [
    "data = np.load(het_infile)"
   ]
  },
  {
   "cell_type": "code",
   "execution_count": 4,
   "metadata": {},
   "outputs": [
    {
     "data": {
      "text/plain": [
       "['x_train',\n",
       " 'x_test',\n",
       " 'y_train',\n",
       " 'y_test',\n",
       " 'attr_train',\n",
       " 'attr_test',\n",
       " 'train_inds',\n",
       " 'valid_inds']"
      ]
     },
     "execution_count": 4,
     "metadata": {},
     "output_type": "execute_result"
    }
   ],
   "source": [
    "list(data.keys())"
   ]
  },
  {
   "cell_type": "code",
   "execution_count": 24,
   "metadata": {},
   "outputs": [],
   "source": [
    "x_train = data['x_train'][data['train_inds']]\n",
    "y_train = data['y_train'][data['train_inds']]\n",
    "attr_train = data['attr_train'][data['train_inds']]\n",
    "\n",
    "x_valid = data['x_train'][data['valid_inds']]\n",
    "y_valid = data['y_train'][data['valid_inds']]\n",
    "attr_valid = data['attr_train'][data['valid_inds']]\n",
    "\n",
    "x_test = data['x_test']\n",
    "y_test = data['y_test']\n",
    "attr_test = data['attr_test']\n",
    "#attr_test= np.zeros(attr_test.shape)\n",
    "\n",
    "xa_train = np.concatenate((x_train, attr_train), axis = 1)\n",
    "xa_valid = np.concatenate((x_valid, attr_valid), axis = 1)\n",
    "xa_test = np.concatenate((x_test, attr_test), axis = 1)"
   ]
  },
  {
   "cell_type": "code",
   "execution_count": 13,
   "metadata": {},
   "outputs": [],
   "source": [
    "modela = LogisticRegression()"
   ]
  },
  {
   "cell_type": "code",
   "execution_count": 14,
   "metadata": {},
   "outputs": [
    {
     "name": "stderr",
     "output_type": "stream",
     "text": [
      "/Users/Frances/anaconda3/envs/rvr-env/lib/python3.6/site-packages/sklearn/linear_model/logistic.py:433: FutureWarning: Default solver will be changed to 'lbfgs' in 0.22. Specify a solver to silence this warning.\n",
      "  FutureWarning)\n"
     ]
    },
    {
     "data": {
      "text/plain": [
       "LogisticRegression(C=1.0, class_weight=None, dual=False, fit_intercept=True,\n",
       "          intercept_scaling=1, max_iter=100, multi_class='warn',\n",
       "          n_jobs=None, penalty='l2', random_state=None, solver='warn',\n",
       "          tol=0.0001, verbose=0, warm_start=False)"
      ]
     },
     "execution_count": 14,
     "metadata": {},
     "output_type": "execute_result"
    }
   ],
   "source": [
    "modela.fit(xa_train, y_train[:,1])"
   ]
  },
  {
   "cell_type": "code",
   "execution_count": 15,
   "metadata": {},
   "outputs": [
    {
     "data": {
      "text/plain": [
       "0.79435"
      ]
     },
     "execution_count": 15,
     "metadata": {},
     "output_type": "execute_result"
    }
   ],
   "source": [
    "modela.score(xa_train, y_train[:,1])"
   ]
  },
  {
   "cell_type": "code",
   "execution_count": 25,
   "metadata": {},
   "outputs": [
    {
     "data": {
      "text/plain": [
       "0.5448"
      ]
     },
     "execution_count": 25,
     "metadata": {},
     "output_type": "execute_result"
    }
   ],
   "source": [
    "modela.score(xa_test, y_test[:,1]) # with attr_test = zeros"
   ]
  },
  {
   "cell_type": "code",
   "execution_count": 17,
   "metadata": {},
   "outputs": [
    {
     "data": {
      "text/plain": [
       "0.7941"
      ]
     },
     "execution_count": 17,
     "metadata": {},
     "output_type": "execute_result"
    }
   ],
   "source": [
    "modela.score(xa_valid, y_valid[:,1])"
   ]
  },
  {
   "cell_type": "code",
   "execution_count": 18,
   "metadata": {},
   "outputs": [
    {
     "name": "stdout",
     "output_type": "stream",
     "text": [
      "0 0.13944881074827603\n",
      "1 -0.11064423763985888\n",
      "2 0.09583949236946038\n",
      "3 0.13106975442393964\n",
      "4 -0.010908869717693526\n",
      "5 0.10191862656879218\n",
      "6 -0.013557498149938499\n",
      "7 0.07363945828716785\n",
      "8 0.14991917966904753\n",
      "9 -0.11560225870643419\n",
      "10 0.13953831989568158\n",
      "11 0.20369594344332426\n",
      "12 0.054058058627349866\n",
      "13 0.02311729227902694\n",
      "14 0.13504291996259582\n",
      "15 -0.1724441177563081\n",
      "16 -0.08820225400045258\n",
      "17 0.05358165929088812\n",
      "18 0.14433084194150264\n",
      "19 -0.17704248472246778\n",
      "20 0.014788114642130158\n",
      "21 -0.16781547110235337\n",
      "22 0.019623735136925356\n",
      "23 0.17511226600457927\n",
      "24 -0.07759669632721443\n",
      "25 0.14830892144052235\n",
      "26 -0.09360303215475131\n",
      "27 -0.022345386380925276\n",
      "28 0.04555113552371322\n",
      "29 -0.08376522974504493\n",
      "30 0.4475408250698306\n",
      "31 0.1019408308491097\n",
      "32 -0.4995570700402726\n",
      "33 -0.39839990768088746\n",
      "34 -0.5580940361152817\n",
      "35 0.6227119125566125\n",
      "36 -0.711958776230211\n",
      "37 0.5491710511554854\n",
      "38 0.48550580776376445\n",
      "39 -0.32856526536991093\n"
     ]
    }
   ],
   "source": [
    "for i in range(modela.coef_.shape[1]):\n",
    "    print(i, modela.coef_[0][i])"
   ]
  },
  {
   "cell_type": "code",
   "execution_count": 19,
   "metadata": {},
   "outputs": [
    {
     "data": {
      "text/plain": [
       "-0.11064423763985888"
      ]
     },
     "execution_count": 19,
     "metadata": {},
     "output_type": "execute_result"
    }
   ],
   "source": [
    "modela.coef_[0][1]"
   ]
  },
  {
   "cell_type": "code",
   "execution_count": 63,
   "metadata": {},
   "outputs": [
    {
     "data": {
      "text/plain": [
       "(5000, 30)"
      ]
     },
     "execution_count": 63,
     "metadata": {},
     "output_type": "execute_result"
    }
   ],
   "source": [
    "x_test.shape"
   ]
  },
  {
   "cell_type": "code",
   "execution_count": 103,
   "metadata": {},
   "outputs": [
    {
     "name": "stdout",
     "output_type": "stream",
     "text": [
      "(5000, 10)\n",
      "[[1. 0. 0. ... 0. 0. 0.]\n",
      " [1. 0. 0. ... 0. 0. 0.]\n",
      " [1. 0. 0. ... 0. 0. 0.]\n",
      " ...\n",
      " [1. 0. 0. ... 0. 0. 0.]\n",
      " [1. 0. 0. ... 0. 0. 0.]\n",
      " [1. 0. 0. ... 0. 0. 0.]]\n"
     ]
    }
   ],
   "source": [
    "print(attr_test.shape)\n",
    "print(attr_test)"
   ]
  },
  {
   "cell_type": "code",
   "execution_count": 20,
   "metadata": {},
   "outputs": [],
   "source": [
    "model = LogisticRegression()"
   ]
  },
  {
   "cell_type": "code",
   "execution_count": 22,
   "metadata": {},
   "outputs": [
    {
     "name": "stderr",
     "output_type": "stream",
     "text": [
      "/Users/Frances/anaconda3/envs/rvr-env/lib/python3.6/site-packages/sklearn/linear_model/logistic.py:433: FutureWarning: Default solver will be changed to 'lbfgs' in 0.22. Specify a solver to silence this warning.\n",
      "  FutureWarning)\n"
     ]
    },
    {
     "data": {
      "text/plain": [
       "LogisticRegression(C=1.0, class_weight=None, dual=False, fit_intercept=True,\n",
       "          intercept_scaling=1, max_iter=100, multi_class='warn',\n",
       "          n_jobs=None, penalty='l2', random_state=None, solver='warn',\n",
       "          tol=0.0001, verbose=0, warm_start=False)"
      ]
     },
     "execution_count": 22,
     "metadata": {},
     "output_type": "execute_result"
    }
   ],
   "source": [
    "model.fit(x_train, y_train[:,1])"
   ]
  },
  {
   "cell_type": "code",
   "execution_count": 23,
   "metadata": {},
   "outputs": [
    {
     "name": "stdout",
     "output_type": "stream",
     "text": [
      "train 0.788675\n",
      "valid 0.792\n",
      "test 0.5572\n"
     ]
    }
   ],
   "source": [
    "print(\"train\", model.score(x_train, y_train[:,1]))\n",
    "print(\"valid\", model.score(x_valid, y_valid[:,1]))\n",
    "print(\"test\", model.score(x_test, y_test[:,1]))"
   ]
  },
  {
   "cell_type": "code",
   "execution_count": 26,
   "metadata": {},
   "outputs": [],
   "source": [
    "from sklearn.ensemble import RandomForestClassifier"
   ]
  },
  {
   "cell_type": "code",
   "execution_count": 33,
   "metadata": {},
   "outputs": [],
   "source": [
    "clf = RandomForestClassifier(n_estimators=50, max_depth=10, random_state=0)"
   ]
  },
  {
   "cell_type": "code",
   "execution_count": 34,
   "metadata": {},
   "outputs": [
    {
     "data": {
      "text/plain": [
       "RandomForestClassifier(bootstrap=True, class_weight=None, criterion='gini',\n",
       "            max_depth=10, max_features='auto', max_leaf_nodes=None,\n",
       "            min_impurity_decrease=0.0, min_impurity_split=None,\n",
       "            min_samples_leaf=1, min_samples_split=2,\n",
       "            min_weight_fraction_leaf=0.0, n_estimators=50, n_jobs=None,\n",
       "            oob_score=False, random_state=0, verbose=0, warm_start=False)"
      ]
     },
     "execution_count": 34,
     "metadata": {},
     "output_type": "execute_result"
    }
   ],
   "source": [
    "clf.fit(x_train, y_train[:,1])"
   ]
  },
  {
   "cell_type": "code",
   "execution_count": 35,
   "metadata": {},
   "outputs": [
    {
     "name": "stdout",
     "output_type": "stream",
     "text": [
      "train 0.86945\n",
      "valid 0.7833\n",
      "test 0.4844\n"
     ]
    }
   ],
   "source": [
    "print(\"train\", clf.score(x_train, y_train[:,1]))\n",
    "print(\"valid\", clf.score(x_valid, y_valid[:,1]))\n",
    "print(\"test\", clf.score(x_test, y_test[:,1]))"
   ]
  },
  {
   "cell_type": "code",
   "execution_count": null,
   "metadata": {},
   "outputs": [],
   "source": []
  },
  {
   "cell_type": "code",
   "execution_count": 123,
   "metadata": {
    "collapsed": true
   },
   "outputs": [],
   "source": [
    "attr_test2 = np.concatenate( (np.zeros((5000,4)), np.ones((5000,1)), np.zeros((5000,5))  ), axis=1 )\n",
    "attr_test2 = np.zeros((5000,10))"
   ]
  },
  {
   "cell_type": "markdown",
   "metadata": {},
   "source": [
    "# Make training set into mini-batches"
   ]
  },
  {
   "cell_type": "code",
   "execution_count": 34,
   "metadata": {},
   "outputs": [
    {
     "name": "stdout",
     "output_type": "stream",
     "text": [
      "[[ 1  1  1  1  0]\n",
      " [ 3  3  3  3  0]\n",
      " [ 4  4  4  4  1]\n",
      " [50 50 50 50  1]]\n",
      "[array([[1, 1, 1, 1, 0],\n",
      "       [3, 3, 3, 3, 0]]), array([[ 4,  4,  4,  4,  1],\n",
      "       [50, 50, 50, 50,  1]])]\n"
     ]
    }
   ],
   "source": [
    "test = np.array([[1,1,1,1], [3,3,3,3], [4,4,4,4], [50,50,50,50]])\n",
    "ytest = np.array([0, 0, 1, 1])\n",
    "xytest = np.concatenate( (test, np.expand_dims(ytest, axis=1) ) , axis = 1)\n",
    "print(xytest)\n",
    "print(np.split(xytest, 2))"
   ]
  },
  {
   "cell_type": "code",
   "execution_count": 131,
   "metadata": {
    "collapsed": true
   },
   "outputs": [],
   "source": [
    "#x_train_w_y = np.concatenate( (x_train, attr_train, np.expand_dims(y_train[:, 1], axis=1) ) , axis = 1)\n",
    "x_train_w_y = np.concatenate( (x_train, np.expand_dims(y_train[:, 1], axis=1) ) , axis = 1)\n"
   ]
  },
  {
   "cell_type": "code",
   "execution_count": 132,
   "metadata": {},
   "outputs": [
    {
     "name": "stdout",
     "output_type": "stream",
     "text": [
      "(40000, 31)\n"
     ]
    }
   ],
   "source": [
    "np.random.shuffle(x_train_w_y)\n",
    "print(x_train_w_y.shape)"
   ]
  },
  {
   "cell_type": "code",
   "execution_count": 171,
   "metadata": {},
   "outputs": [
    {
     "name": "stdout",
     "output_type": "stream",
     "text": [
      "(50, 31)\n"
     ]
    }
   ],
   "source": [
    "x_train_batches = np.split(x_train_w_y, 800)\n",
    "print(x_train_batches[0].shape)"
   ]
  },
  {
   "cell_type": "code",
   "execution_count": 172,
   "metadata": {
    "collapsed": true
   },
   "outputs": [],
   "source": [
    "x_train_batches = torch.tensor(x_train_batches, dtype=torch.float)"
   ]
  },
  {
   "cell_type": "code",
   "execution_count": 173,
   "metadata": {
    "collapsed": true
   },
   "outputs": [],
   "source": [
    "#x_test_w_y = np.concatenate( (x_test, attr_test2, np.expand_dims(y_test[:, 1], axis=1) ) , axis = 1)\n",
    "x_test_w_y = np.concatenate( (x_test, np.expand_dims(y_test[:, 1], axis=1) ) , axis = 1)\n",
    "\n",
    "np.random.shuffle(x_test_w_y)\n",
    "x_test_batches = np.split(x_test_w_y, 100)\n",
    "x_test_batches = torch.tensor(x_test_batches, dtype=torch.float)"
   ]
  },
  {
   "cell_type": "code",
   "execution_count": 174,
   "metadata": {},
   "outputs": [
    {
     "name": "stdout",
     "output_type": "stream",
     "text": [
      "Net(\n",
      "  (fc1): Linear(in_features=30, out_features=10, bias=True)\n",
      "  (fc2): Linear(in_features=10, out_features=10, bias=True)\n",
      "  (fc3): Linear(in_features=10, out_features=10, bias=True)\n",
      "  (fc4): Linear(in_features=10, out_features=1, bias=True)\n",
      ")\n"
     ]
    }
   ],
   "source": [
    "class Net(nn.Module):\n",
    "\n",
    "    def __init__(self):\n",
    "        super(Net, self).__init__()\n",
    "        self.fc1 = nn.Linear(30, 10)\n",
    "        self.fc2 = nn.Linear(10, 10)\n",
    "        self.fc3 = nn.Linear(10, 10)\n",
    "        self.fc4 = nn.Linear(10, 1)\n",
    "\n",
    "    def forward(self, x):\n",
    "        # Max pooling over a (2, 2) window\n",
    "        #x = x.view(-1, self.num_flat_features(x))\n",
    "        x = F.leaky_relu(self.fc1(x))\n",
    "        x = F.leaky_relu(self.fc2(x))\n",
    "        x = F.leaky_relu(self.fc3(x))\n",
    "        x = F.sigmoid(self.fc4(x))\n",
    "        return x\n",
    "\n",
    "    def num_flat_features(self, x):\n",
    "        size = x.size()[1:]  # all dimensions except the batch dimension\n",
    "        num_features = 1\n",
    "        for s in size:\n",
    "            num_features *= s\n",
    "        return num_features\n",
    "\n",
    "\n",
    "net = Net()\n",
    "print(net)"
   ]
  },
  {
   "cell_type": "code",
   "execution_count": 175,
   "metadata": {
    "collapsed": true
   },
   "outputs": [],
   "source": [
    "import torch.optim as optim\n",
    "\n",
    "# create your optimizer\n",
    "#criterion = nn.CrossEntropyLoss()\n",
    "criterion = nn.BCELoss()\n",
    "\n",
    "optimizer = optim.Adam(net.parameters(), lr=0.001)\n",
    "\n"
   ]
  },
  {
   "cell_type": "code",
   "execution_count": 180,
   "metadata": {},
   "outputs": [
    {
     "name": "stdout",
     "output_type": "stream",
     "text": [
      "[1,   400] loss: 0.000\n",
      "[1,   800] loss: 0.000\n"
     ]
    },
    {
     "name": "stderr",
     "output_type": "stream",
     "text": [
      "/Users/Frances/anaconda3/envs/rvr-env/lib/python3.6/site-packages/ipykernel_launcher.py:26: UserWarning: To copy construct from a tensor, it is recommended to use sourceTensor.clone().detach() or sourceTensor.clone().detach().requires_grad_(True), rather than torch.tensor(sourceTensor).\n"
     ]
    },
    {
     "name": "stdout",
     "output_type": "stream",
     "text": [
      "[11,   400] loss: 0.000\n",
      "[11,   800] loss: 0.000\n",
      "[21,   400] loss: 0.000\n",
      "[21,   800] loss: 0.000\n",
      "[31,   400] loss: 0.000\n",
      "[31,   800] loss: 0.000\n",
      "[41,   400] loss: 0.000\n",
      "[41,   800] loss: 0.000\n",
      "[51,   400] loss: 0.000\n",
      "[51,   800] loss: 0.000\n",
      "[61,   400] loss: 0.000\n",
      "[61,   800] loss: 0.000\n",
      "[71,   400] loss: 0.000\n",
      "[71,   800] loss: 0.000\n",
      "[81,   400] loss: 0.000\n",
      "[81,   800] loss: 0.000\n",
      "[91,   400] loss: 0.000\n",
      "[91,   800] loss: 0.000\n",
      "Finished Training\n"
     ]
    }
   ],
   "source": [
    "for epoch in range(100):  # loop over the dataset multiple times\n",
    "\n",
    "    running_loss = 0.0\n",
    "    for i, data in enumerate(x_train_batches, 0):\n",
    "        # get the inputs\n",
    "        inputs = data[:,:-1]\n",
    "        labels = data[:,-1]\n",
    "\n",
    "        # zero the parameter gradients\n",
    "        optimizer.zero_grad()\n",
    "\n",
    "        # forward + backward + optimize\n",
    "        outputs = net(inputs)\n",
    "        loss = criterion(outputs, labels)\n",
    "        loss.backward()\n",
    "        optimizer.step()\n",
    "\n",
    "        # print statistics\n",
    "        running_loss += loss.item()\n",
    "        if epoch % 10 == 0 and i % 400 == 399:    # print every 400 mini-batches\n",
    "            print('[%d, %5d] loss: %.3f' %\n",
    "                  (epoch + 1, i + 1, running_loss / 400))\n",
    "            running_loss = 0.0\n",
    "            \n",
    "    np.random.shuffle(x_train_batches)\n",
    "    x_train_batches = torch.tensor(x_train_batches, dtype=torch.float)\n",
    "\n",
    "print('Finished Training')"
   ]
  },
  {
   "cell_type": "code",
   "execution_count": 181,
   "metadata": {},
   "outputs": [
    {
     "name": "stdout",
     "output_type": "stream",
     "text": [
      "0.1599999964237213\n",
      "0.2199999988079071\n",
      "0.25999999046325684\n",
      "0.25999999046325684\n",
      "0.2199999988079071\n",
      "0.23999999463558197\n",
      "0.2199999988079071\n",
      "0.2199999988079071\n",
      "0.3199999928474426\n",
      "0.14000000059604645\n",
      "0.20000000298023224\n",
      "0.3199999928474426\n",
      "0.2800000011920929\n",
      "0.2199999988079071\n",
      "0.30000001192092896\n",
      "0.18000000715255737\n",
      "0.23999999463558197\n",
      "0.30000001192092896\n",
      "0.20000000298023224\n",
      "0.23999999463558197\n",
      "0.20000000298023224\n",
      "0.3799999952316284\n",
      "0.2800000011920929\n",
      "0.23999999463558197\n",
      "0.2800000011920929\n",
      "0.2199999988079071\n",
      "0.30000001192092896\n",
      "0.18000000715255737\n",
      "0.30000001192092896\n",
      "0.20000000298023224\n",
      "0.1599999964237213\n",
      "0.1599999964237213\n",
      "0.41999998688697815\n",
      "0.10000000149011612\n",
      "0.2199999988079071\n",
      "0.18000000715255737\n",
      "0.1599999964237213\n",
      "0.2199999988079071\n",
      "0.23999999463558197\n",
      "0.25999999046325684\n",
      "0.18000000715255737\n",
      "0.18000000715255737\n",
      "0.14000000059604645\n",
      "0.23999999463558197\n",
      "0.14000000059604645\n",
      "0.18000000715255737\n",
      "0.2199999988079071\n",
      "0.3199999928474426\n",
      "0.2199999988079071\n",
      "0.25999999046325684\n",
      "0.30000001192092896\n",
      "0.20000000298023224\n",
      "0.20000000298023224\n",
      "0.23999999463558197\n",
      "0.18000000715255737\n",
      "0.30000001192092896\n",
      "0.3199999928474426\n",
      "0.25999999046325684\n",
      "0.2199999988079071\n",
      "0.23999999463558197\n",
      "0.2199999988079071\n",
      "0.30000001192092896\n",
      "0.25999999046325684\n",
      "0.1599999964237213\n",
      "0.4000000059604645\n",
      "0.30000001192092896\n",
      "0.18000000715255737\n",
      "0.2199999988079071\n",
      "0.20000000298023224\n",
      "0.30000001192092896\n",
      "0.14000000059604645\n",
      "0.20000000298023224\n",
      "0.11999999731779099\n",
      "0.23999999463558197\n",
      "0.20000000298023224\n",
      "0.1599999964237213\n",
      "0.18000000715255737\n",
      "0.3400000035762787\n",
      "0.36000001430511475\n",
      "0.1599999964237213\n",
      "0.2800000011920929\n",
      "0.2800000011920929\n",
      "0.25999999046325684\n",
      "0.25999999046325684\n",
      "0.14000000059604645\n",
      "0.18000000715255737\n",
      "0.25999999046325684\n",
      "0.18000000715255737\n",
      "0.14000000059604645\n",
      "0.20000000298023224\n",
      "0.20000000298023224\n",
      "0.2199999988079071\n",
      "0.3199999928474426\n",
      "0.20000000298023224\n",
      "0.2800000011920929\n",
      "0.1599999964237213\n",
      "0.2199999988079071\n",
      "0.25999999046325684\n",
      "0.20000000298023224\n",
      "0.20000000298023224\n",
      "Accuracy of the network on the test data: 76 %\n",
      "Accuracy of the network on the test data: 76 %\n"
     ]
    }
   ],
   "source": [
    "correct = 0\n",
    "total = 0\n",
    "total_loss = 0\n",
    "n_batches = 0\n",
    "with torch.no_grad():\n",
    "    for data in x_test_batches:\n",
    "        inputs = data[:,:-1]\n",
    "        labels = data[:,-1]\n",
    "        \n",
    "        outputs = net(inputs)\n",
    "        rounded = torch.round(outputs).squeeze()\n",
    "        \n",
    "        #_, predicted = torch.max(outputs.data, 1)\n",
    "        total += labels.size(0)\n",
    "        #print(rounded == labels)\n",
    "        this_loss = F.l1_loss(rounded, labels).item()\n",
    "        print(this_loss)\n",
    "        correct += (rounded == labels).sum().item()\n",
    "        total_loss += this_loss\n",
    "        n_batches += 1\n",
    "\n",
    "print('Accuracy of the network on the test data: %d %%' % (\n",
    "    100 * correct / total))\n",
    "print('Accuracy of the network on the test data: %d %%' % (\n",
    "    100 * (1 - total_loss / n_batches)))"
   ]
  },
  {
   "cell_type": "code",
   "execution_count": null,
   "metadata": {
    "collapsed": true
   },
   "outputs": [],
   "source": []
  },
  {
   "cell_type": "code",
   "execution_count": null,
   "metadata": {
    "collapsed": true
   },
   "outputs": [],
   "source": []
  }
 ],
 "metadata": {
  "kernelspec": {
   "display_name": "Python 3",
   "language": "python",
   "name": "python3"
  },
  "language_info": {
   "codemirror_mode": {
    "name": "ipython",
    "version": 3
   },
   "file_extension": ".py",
   "mimetype": "text/x-python",
   "name": "python",
   "nbconvert_exporter": "python",
   "pygments_lexer": "ipython3",
   "version": "3.6.7"
  }
 },
 "nbformat": 4,
 "nbformat_minor": 2
}
